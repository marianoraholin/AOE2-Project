{
  "nbformat": 4,
  "nbformat_minor": 0,
  "metadata": {
    "colab": {
      "provenance": [],
      "authorship_tag": "ABX9TyNZaGM1XUloQKTIJyG7niS7"
    },
    "kernelspec": {
      "name": "python3",
      "display_name": "Python 3"
    },
    "language_info": {
      "name": "python"
    }
  },
  "cells": [
    {
      "cell_type": "markdown",
      "source": [
        "En este proyecto, hemos desarrollado una serie de consultas SQL aplicadas a la base de datos de una cadena de supermercados estadounidense, con el propósito de analizar y comprender aspectos clave del negocio. El análisis abarca áreas como ventas, segmentación y comportamiento del cliente, rendimiento geográfico y distribución.\n",
        "\n",
        "Estas consultas proporcionan una visión completa del funcionamiento y desempeño de la cadena de supermercados, sirviendo como herramienta para la toma de decisiones estratégicas y operativas."
      ],
      "metadata": {
        "id": "vIq0r92NhCNR"
      }
    },
    {
      "cell_type": "code",
      "source": [
        "import pandas as pd\n",
        "import duckdb"
      ],
      "metadata": {
        "id": "JmfhhUeQtF6C"
      },
      "execution_count": 3,
      "outputs": []
    },
    {
      "cell_type": "code",
      "source": [
        "sales=pd.read_csv('/content/Sales.csv')\n",
        "products=pd.read_csv('/content/Products.csv')\n",
        "customers=pd.read_csv('/content/Customers.csv')"
      ],
      "metadata": {
        "id": "jxKOiRYzuRV4"
      },
      "execution_count": 4,
      "outputs": []
    },
    {
      "cell_type": "code",
      "source": [
        "sales.info()"
      ],
      "metadata": {
        "id": "iCzXAFa4uZMm",
        "colab": {
          "base_uri": "https://localhost:8080/"
        },
        "outputId": "a0090b68-8981-48dc-a059-89078af0e85e"
      },
      "execution_count": 5,
      "outputs": [
        {
          "output_type": "stream",
          "name": "stdout",
          "text": [
            "<class 'pandas.core.frame.DataFrame'>\n",
            "RangeIndex: 9994 entries, 0 to 9993\n",
            "Data columns (total 11 columns):\n",
            " #   Column       Non-Null Count  Dtype  \n",
            "---  ------       --------------  -----  \n",
            " 0   Row ID       9994 non-null   int64  \n",
            " 1   Order ID     9994 non-null   object \n",
            " 2   Order Date   9994 non-null   object \n",
            " 3   Ship Date    9994 non-null   object \n",
            " 4   Ship Mode    9994 non-null   object \n",
            " 5   Customer ID  9994 non-null   object \n",
            " 6   Product ID   9994 non-null   object \n",
            " 7   Sales        9994 non-null   float64\n",
            " 8   Quantity     9994 non-null   int64  \n",
            " 9   Discount     9994 non-null   float64\n",
            " 10  Profit       9994 non-null   float64\n",
            "dtypes: float64(3), int64(2), object(6)\n",
            "memory usage: 859.0+ KB\n"
          ]
        }
      ]
    },
    {
      "cell_type": "code",
      "source": [
        "sales = sales.rename(columns={'Row ID': 'Row_ID',\n",
        "                              'Order ID': 'Order_ID',\n",
        "                              'Order Date': 'Order_Date',\n",
        "                              'Ship Date': 'Ship_Date',\n",
        "                              'Ship Mode': 'Ship_Mode',\n",
        "                              'Customer ID': 'Customer_ID',\n",
        "                              'Product ID': 'Product_ID'})"
      ],
      "metadata": {
        "id": "a7rIStjFgTvl"
      },
      "execution_count": 6,
      "outputs": []
    },
    {
      "cell_type": "code",
      "source": [
        "sales['Order_Date'] = pd.to_datetime(sales['Order_Date'])\n",
        "sales['Ship_Date'] = pd.to_datetime(sales['Ship_Date'])"
      ],
      "metadata": {
        "id": "4cQffi5OuVhf"
      },
      "execution_count": 7,
      "outputs": []
    },
    {
      "cell_type": "code",
      "source": [
        "products.info()"
      ],
      "metadata": {
        "id": "4Br3kEIauxl7",
        "colab": {
          "base_uri": "https://localhost:8080/"
        },
        "outputId": "80b6fabc-4e50-4396-fcda-2fee957338cd"
      },
      "execution_count": 8,
      "outputs": [
        {
          "output_type": "stream",
          "name": "stdout",
          "text": [
            "<class 'pandas.core.frame.DataFrame'>\n",
            "RangeIndex: 1862 entries, 0 to 1861\n",
            "Data columns (total 4 columns):\n",
            " #   Column        Non-Null Count  Dtype \n",
            "---  ------        --------------  ----- \n",
            " 0   Product ID    1862 non-null   object\n",
            " 1   Category      1862 non-null   object\n",
            " 2   Sub-Category  1862 non-null   object\n",
            " 3   Product Name  1862 non-null   object\n",
            "dtypes: object(4)\n",
            "memory usage: 58.3+ KB\n"
          ]
        }
      ]
    },
    {
      "cell_type": "code",
      "source": [
        "products = products.rename(columns={'Product ID': 'Product_ID',\n",
        "                                    'Sub-Category': 'Sub_Category',\n",
        "                                    'Product Name': 'Product_Name'})"
      ],
      "metadata": {
        "id": "Q9I0gprShHG7"
      },
      "execution_count": 9,
      "outputs": []
    },
    {
      "cell_type": "code",
      "source": [
        "customers.info()"
      ],
      "metadata": {
        "colab": {
          "base_uri": "https://localhost:8080/"
        },
        "id": "nhyChKwpfwnT",
        "outputId": "4be94ded-fccf-42e1-97e6-4ef184c60370"
      },
      "execution_count": 10,
      "outputs": [
        {
          "output_type": "stream",
          "name": "stdout",
          "text": [
            "<class 'pandas.core.frame.DataFrame'>\n",
            "RangeIndex: 793 entries, 0 to 792\n",
            "Data columns (total 7 columns):\n",
            " #   Column         Non-Null Count  Dtype \n",
            "---  ------         --------------  ----- \n",
            " 0   Customer ID    793 non-null    object\n",
            " 1   Customer Name  793 non-null    object\n",
            " 2   Segment        793 non-null    object\n",
            " 3   City           793 non-null    object\n",
            " 4   State          793 non-null    object\n",
            " 5   Region         793 non-null    object\n",
            " 6   Postal Code    793 non-null    int64 \n",
            "dtypes: int64(1), object(6)\n",
            "memory usage: 43.5+ KB\n"
          ]
        }
      ]
    },
    {
      "cell_type": "code",
      "source": [
        "customers = customers.rename(columns={'Customer ID': 'Customer_ID',\n",
        "                                    'Customer Name': 'Customer_Name',\n",
        "                                    'Postal Code': 'Postal_Code'})"
      ],
      "metadata": {
        "id": "x-UGgG8df2Aa"
      },
      "execution_count": 11,
      "outputs": []
    },
    {
      "cell_type": "code",
      "source": [
        "#Consulta de productos más vendidos\n",
        "\n",
        "query1 = \"\"\"\n",
        "SELECT\n",
        "    p.Product_Name,\n",
        "    SUM(s.Quantity) AS Productos_Vendidos\n",
        "FROM sales s\n",
        "JOIN products p ON s.Product_ID = p.Product_ID\n",
        "GROUP BY p.Product_Name\n",
        "ORDER BY Productos_Vendidos DESC\n",
        "LIMIT 10;\n",
        "\"\"\"\n",
        "result = duckdb.query(query1).df()\n",
        "print(result)"
      ],
      "metadata": {
        "colab": {
          "base_uri": "https://localhost:8080/"
        },
        "id": "GTAhMD_mj0Cu",
        "outputId": "5a30e5cb-7256-42ac-ba8a-ac9a4c8a94c8"
      },
      "execution_count": 12,
      "outputs": [
        {
          "output_type": "stream",
          "name": "stdout",
          "text": [
            "                                        Product_Name  Productos_Vendidos\n",
            "0                                            Staples               215.0\n",
            "1                                    Staple envelope               170.0\n",
            "2                                  Easy-staple paper               150.0\n",
            "3                            Staples in misc. colors                86.0\n",
            "4                 Logitech P710e Mobile Speakerphone                75.0\n",
            "5                         KI Adjustable-Height Table                74.0\n",
            "6                            Storex Dura Pro Binders                71.0\n",
            "7                            Avery Non-Stick Binders                71.0\n",
            "8                                         Xerox 1881                70.0\n",
            "9  GBC Premium Transparent Covers with Diagonal L...                67.0\n"
          ]
        }
      ]
    },
    {
      "cell_type": "code",
      "source": [
        "#Consulta de productos con mayor ingreso\n",
        "\n",
        "query2 = \"\"\"\n",
        "SELECT p.Product_Name, SUM(s.Sales) AS Total_Ventas\n",
        "FROM sales s\n",
        "JOIN products p ON s.Product_ID = p.Product_ID\n",
        "GROUP BY p.Product_Name\n",
        "ORDER BY Total_Ventas DESC\n",
        "LIMIT 10;\n",
        "\"\"\"\n",
        "result2 = duckdb.query(query2).df()\n",
        "print(result2)"
      ],
      "metadata": {
        "id": "FzT0bZzqkNzp",
        "colab": {
          "base_uri": "https://localhost:8080/"
        },
        "outputId": "1f8caf91-119e-4e8e-95af-320a5fa51788"
      },
      "execution_count": 13,
      "outputs": [
        {
          "output_type": "stream",
          "name": "stdout",
          "text": [
            "                                        Product_Name  Total_Ventas\n",
            "0              Canon imageCLASS 2200 Advanced Copier     61599.824\n",
            "1  Fellowes PB500 Electric Punch Plastic Comb Bin...     27453.384\n",
            "2  Cisco TelePresence System EX90 Videoconferenci...     22638.480\n",
            "3       HON 5400 Series Task Chairs for Big and Tall     21870.576\n",
            "4         GBC DocuBind TL300 Electric Binding System     19823.479\n",
            "5   GBC Ibimaster 500 Manual ProClick Binding System     19024.500\n",
            "6               Hewlett Packard LaserJet 3310 Copier     18839.686\n",
            "7  HP Designjet T520 Inkjet Large Format Printer ...     18374.895\n",
            "8          GBC DocuBind P400 Electric Binding System     17965.068\n",
            "9        High Speed Automatic Electric Letter Opener     17030.312\n"
          ]
        }
      ]
    },
    {
      "cell_type": "code",
      "source": [
        "#Consulta de mayores compradores agrupados por ciudad y tipo de cliente\n",
        "\n",
        "query3 = \"\"\"\n",
        "SELECT\n",
        "    c.City,\n",
        "    c.Segment,\n",
        "    SUM(s.Sales) AS Total_Ventas\n",
        "FROM sales s\n",
        "JOIN customers c ON s.Customer_ID = c.Customer_ID\n",
        "GROUP BY c.City, c.Segment\n",
        "ORDER BY Total_Ventas DESC\n",
        "LIMIT 10;\n",
        "\"\"\"\n",
        "result3 = duckdb.query(query3).df()\n",
        "print(result3)"
      ],
      "metadata": {
        "colab": {
          "base_uri": "https://localhost:8080/"
        },
        "id": "I6u1FOJ00KLM",
        "outputId": "b934c5f8-c4c8-456f-d180-3fd27146cd43"
      },
      "execution_count": 14,
      "outputs": [
        {
          "output_type": "stream",
          "name": "stdout",
          "text": [
            "            City      Segment  Total_Ventas\n",
            "0  New York City     Consumer    78401.7091\n",
            "1  New York City    Corporate    75613.5246\n",
            "2    Los Angeles     Consumer    69250.1000\n",
            "3        Seattle     Consumer    68762.2098\n",
            "4  San Francisco     Consumer    62007.0800\n",
            "5   Philadelphia     Consumer    61693.3002\n",
            "6   Philadelphia    Corporate    60299.2408\n",
            "7  New York City  Home Office    56911.7584\n",
            "8        Houston     Consumer    45581.9396\n",
            "9  San Francisco    Corporate    40817.7835\n"
          ]
        }
      ]
    },
    {
      "cell_type": "code",
      "source": [
        "#Consulta de Estados con mas ventas\n",
        "\n",
        "query4 = \"\"\"\n",
        "SELECT\n",
        "    c.State,\n",
        "    SUM(s.Sales) AS Total_Ventas\n",
        "FROM sales s\n",
        "JOIN customers c ON s.Customer_ID = c.Customer_ID\n",
        "GROUP BY c.State\n",
        "ORDER BY Total_Ventas DESC\n",
        "LIMIT 10;\n",
        "\"\"\"\n",
        "result4 = duckdb.query(query4).df()\n",
        "print(result4)"
      ],
      "metadata": {
        "colab": {
          "base_uri": "https://localhost:8080/"
        },
        "id": "WkyryF-bwynR",
        "outputId": "ea920fd3-be54-4bd0-fa1d-481a0d2aacca"
      },
      "execution_count": 15,
      "outputs": [
        {
          "output_type": "stream",
          "name": "stdout",
          "text": [
            "            State  Total_Ventas\n",
            "0      California   451036.5823\n",
            "1        New York   279549.8235\n",
            "2           Texas   192758.2049\n",
            "3    Pennsylvania   142838.5510\n",
            "4      Washington   133177.2518\n",
            "5  North Carolina   116635.4615\n",
            "6        Illinois   112819.7720\n",
            "7         Arizona    81986.1230\n",
            "8            Ohio    74771.3300\n",
            "9        Michigan    58076.8598\n"
          ]
        }
      ]
    },
    {
      "cell_type": "code",
      "source": [
        "#Consulta de ticket promedio en cada Estado\n",
        "\n",
        "query5 = \"\"\"\n",
        "SELECT\n",
        "    c.State,\n",
        "    SUM(s.Sales)/COUNT(DISTINCT c.Customer_ID) AS Tiket_Promedio\n",
        "FROM sales s\n",
        "JOIN customers c ON s.Customer_ID = c.Customer_ID\n",
        "GROUP BY c.State\n",
        "ORDER BY Tiket_Promedio DESC;\n",
        "\"\"\"\n",
        "result5 = duckdb.query(query5).df()\n",
        "print(result5)"
      ],
      "metadata": {
        "colab": {
          "base_uri": "https://localhost:8080/"
        },
        "id": "Ndc8sBMv1CSY",
        "outputId": "1f116ad5-0a01-4bbe-8c61-dfe4a1e88264"
      },
      "execution_count": 16,
      "outputs": [
        {
          "output_type": "stream",
          "name": "stdout",
          "text": [
            "                   State  Tiket_Promedio\n",
            "0                 Oregon     5775.723667\n",
            "1          New Hampshire     4860.073000\n",
            "2              Wisconsin     4552.250111\n",
            "3                   Iowa     4142.049000\n",
            "4                Arizona     3904.101095\n",
            "5         North Carolina     3887.848717\n",
            "6            Mississippi     3869.449000\n",
            "7              Minnesota     3850.952346\n",
            "8               Michigan     3629.803737\n",
            "9               Delaware     3509.347500\n",
            "10            Washington     3504.664521\n",
            "11               Alabama     3448.776867\n",
            "12              Nebraska     3246.205000\n",
            "13              New York     3213.216362\n",
            "14              Virginia     3101.419867\n",
            "15               Georgia     3023.537941\n",
            "16              Colorado     2876.155810\n",
            "17          Pennsylvania     2856.771020\n",
            "18         Massachusetts     2841.134500\n",
            "19             Tennessee     2825.660246\n",
            "20            California     2801.469455\n",
            "21             Louisiana     2770.978000\n",
            "22              Illinois     2751.701756\n",
            "23                  Utah     2720.504500\n",
            "24           Connecticut     2649.971571\n",
            "25          Rhode Island     2556.578000\n",
            "26                 Texas     2503.353310\n",
            "27          South Dakota     2339.598000\n",
            "28              Arkansas     2291.278000\n",
            "29              Kentucky     2241.834231\n",
            "30  District of Columbia     2198.450000\n",
            "31              Missouri     2168.862500\n",
            "32               Florida     2083.457908\n",
            "33            New Jersey     2026.706800\n",
            "34                  Ohio     1967.666579\n",
            "35               Indiana     1914.822000\n",
            "36                Kansas     1727.652000\n",
            "37              Oklahoma     1711.939333\n",
            "38            New Mexico     1511.547000\n",
            "39                Nevada      607.493000\n",
            "40              Maryland      397.202500\n"
          ]
        }
      ]
    },
    {
      "cell_type": "code",
      "source": [
        "#Consulta de ventas por categoría de producto en cada región.\n",
        "\n",
        "query6 = \"\"\"\n",
        "SELECT\n",
        "    c.Region,\n",
        "    p.Category,\n",
        "    SUM(s.Sales) AS Total_Ventas\n",
        "FROM sales s\n",
        "JOIN customers c ON s.Customer_ID = c.Customer_ID\n",
        "JOIN products p ON s.Product_ID = p.Product_ID\n",
        "GROUP BY c.Region, p.Category\n",
        "ORDER BY c.Region, Total_Ventas DESC;\n",
        "\"\"\"\n",
        "result6 = duckdb.query(query6).df()\n",
        "print(result6)"
      ],
      "metadata": {
        "colab": {
          "base_uri": "https://localhost:8080/"
        },
        "id": "LMGPgw29MEEO",
        "outputId": "c16d48f6-2e0c-40ac-cd4c-0690c9caa0c8"
      },
      "execution_count": 17,
      "outputs": [
        {
          "output_type": "stream",
          "name": "stdout",
          "text": [
            "     Region         Category  Total_Ventas\n",
            "0   Central       Technology   184752.7770\n",
            "1   Central        Furniture   176419.4072\n",
            "2   Central  Office Supplies   157627.9480\n",
            "3      East       Technology   246022.2590\n",
            "4      East  Office Supplies   193251.3320\n",
            "5      East        Furniture   172460.7085\n",
            "6     South       Technology   160094.5890\n",
            "7     South  Office Supplies   128092.6880\n",
            "8     South        Furniture   113844.7063\n",
            "9      West        Furniture   279274.9733\n",
            "10     West       Technology   245284.4080\n",
            "11     West  Office Supplies   240075.0640\n"
          ]
        }
      ]
    },
    {
      "cell_type": "code",
      "source": [
        "#Consulta de los 10 productos con mayor rentabilidad\n",
        "\n",
        "query7 = \"\"\"\n",
        "SELECT\n",
        "    p.Product_Name,\n",
        "    SUM(s.Profit) AS Rentabilidad_Total\n",
        "FROM sales s\n",
        "JOIN products p ON s.Product_ID = p.Product_ID\n",
        "GROUP BY p.Product_Name\n",
        "ORDER BY Rentabilidad_Total DESC\n",
        "LIMIT 10;\n",
        "\"\"\"\n",
        "result7 = duckdb.query(query7).df()\n",
        "print(result7)"
      ],
      "metadata": {
        "colab": {
          "base_uri": "https://localhost:8080/"
        },
        "id": "pFC2smdm4lfj",
        "outputId": "46ddf78d-18f6-419f-b851-ba1e3f85679c"
      },
      "execution_count": 18,
      "outputs": [
        {
          "output_type": "stream",
          "name": "stdout",
          "text": [
            "                                        Product_Name  Rentabilidad_Total\n",
            "0              Canon imageCLASS 2200 Advanced Copier          25199.9280\n",
            "1  Fellowes PB500 Electric Punch Plastic Comb Bin...           7753.0390\n",
            "2               Hewlett Packard LaserJet 3310 Copier           6983.8836\n",
            "3                 Canon PC1060 Personal Laser Copier           4570.9347\n",
            "4          Logitech G19 Programmable Gaming Keyboard           4425.3432\n",
            "5  HP Designjet T520 Inkjet Large Format Printer ...           4094.9766\n",
            "6                  Ativa V4110MDD Micro-Cut Shredder           3772.9461\n",
            "7   3D Systems Cube Printer, 2nd Generation, Magenta           3717.9714\n",
            "8               Ibico EPK-21 Electric Binding System           3345.2823\n",
            "9                  Zebra ZM400 Thermal Label Printer           3343.5360\n"
          ]
        }
      ]
    },
    {
      "cell_type": "code",
      "source": [
        "#Consulta de los 10 productos con menor rentabilidad\n",
        "\n",
        "query8 = \"\"\"\n",
        "SELECT\n",
        "    p.Product_Name,\n",
        "    SUM(s.Profit) AS Rentabilidad_Total\n",
        "FROM sales s\n",
        "JOIN products p ON s.Product_ID = p.Product_ID\n",
        "GROUP BY p.Product_Name\n",
        "ORDER BY Rentabilidad_Total ASC\n",
        "LIMIT 10;\n",
        "\"\"\"\n",
        "result8 = duckdb.query(query8).df()\n",
        "print(result8)"
      ],
      "metadata": {
        "colab": {
          "base_uri": "https://localhost:8080/"
        },
        "id": "A6GYOerT1nM9",
        "outputId": "67d973dd-e467-4a28-d263-1114ce22a12f"
      },
      "execution_count": 19,
      "outputs": [
        {
          "output_type": "stream",
          "name": "stdout",
          "text": [
            "                                        Product_Name  Rentabilidad_Total\n",
            "0          Cubify CubeX 3D Printer Double Head Print          -8879.9704\n",
            "1          Lexmark MX611dhe Monochrome Laser Printer          -4589.9730\n",
            "2          Cubify CubeX 3D Printer Triple Head Print          -3839.9904\n",
            "3  Chromcraft Bull-Nose Wood Oval Conference Tabl...          -2876.1156\n",
            "4  Bush Advantage Collection Racetrack Conference...          -1934.3976\n",
            "5          GBC DocuBind P400 Electric Binding System          -1878.1662\n",
            "6  Cisco TelePresence System EX90 Videoconferenci...          -1811.0784\n",
            "7  Martin Yale Chadless Opener Electric Letter Op...          -1299.1836\n",
            "8                       Balt Solid Wood Round Tables          -1201.0581\n",
            "9  BoxOffice By Design Rectangular and Half-Moon ...          -1148.4375\n"
          ]
        }
      ]
    },
    {
      "cell_type": "code",
      "source": [
        "#Consulta de rentabilidad promedio en base al descuento aplicado\n",
        "\n",
        "query9 = \"\"\"\n",
        "SELECT\n",
        "    CASE\n",
        "        WHEN Discount = 0 THEN '0%'\n",
        "        WHEN Discount BETWEEN 0.01 AND 0.1 THEN '1-10%'\n",
        "        WHEN Discount BETWEEN 0.11 AND 0.2 THEN '11-20%'\n",
        "        WHEN Discount BETWEEN 0.21 AND 0.3 THEN '21-30%'\n",
        "        WHEN Discount BETWEEN 0.31 AND 0.4 THEN '31-40%'\n",
        "        WHEN Discount > 0.4 THEN 'Más de 40%'\n",
        "    END AS Rango_Descuento,\n",
        "    COUNT(*) AS Cantidad_Ventas,\n",
        "    AVG(Profit) AS Rentabilidad_Promedio,\n",
        "\n",
        "FROM sales\n",
        "GROUP BY Rango_Descuento\n",
        "ORDER BY Rango_Descuento;\n",
        "\"\"\"\n",
        "result9 = duckdb.query(query9).df()\n",
        "print(result9)"
      ],
      "metadata": {
        "colab": {
          "base_uri": "https://localhost:8080/"
        },
        "id": "Zdz22aW9v-Rm",
        "outputId": "e6f1ee3d-758f-4b76-ca83-7af2b73186fc"
      },
      "execution_count": 20,
      "outputs": [
        {
          "output_type": "stream",
          "name": "stdout",
          "text": [
            "  Rango_Descuento  Cantidad_Ventas  Rentabilidad_Promedio\n",
            "0              0%             4798              66.900292\n",
            "1           1-10%               94              96.055074\n",
            "2          11-20%             3709              24.738824\n",
            "3          21-30%              227             -45.679636\n",
            "4          31-40%              233            -109.219691\n",
            "5      Más de 40%              933            -106.708028\n"
          ]
        }
      ]
    },
    {
      "cell_type": "code",
      "source": [
        "#Consulta de rentabilidad total por Estado\n",
        "\n",
        "query10 = \"\"\"\n",
        "SELECT\n",
        "    c.State,\n",
        "    SUM(s.Profit) AS Rentabilidad_Total\n",
        "FROM sales s\n",
        "JOIN customers c ON s.Customer_ID = c.Customer_ID\n",
        "GROUP BY c.State\n",
        "ORDER BY Rentabilidad_Total DESC;\n",
        "\"\"\"\n",
        "result10 = duckdb.query(query10).df()\n",
        "print(result10)"
      ],
      "metadata": {
        "colab": {
          "base_uri": "https://localhost:8080/"
        },
        "id": "R5Njda_t56w8",
        "outputId": "903f81db-33fd-49a8-d721-d5284d2a2b00"
      },
      "execution_count": 21,
      "outputs": [
        {
          "output_type": "stream",
          "name": "stdout",
          "text": [
            "                   State  Rentabilidad_Total\n",
            "0             California          59398.3125\n",
            "1               New York          58177.8341\n",
            "2             Washington          24405.7966\n",
            "3                  Texas          20528.9110\n",
            "4           Pennsylvania          13604.9350\n",
            "5                Georgia          12781.3426\n",
            "6                Arizona           9563.2001\n",
            "7               Illinois           9560.1456\n",
            "8              Wisconsin           8569.8697\n",
            "9               Michigan           7752.2969\n",
            "10             Minnesota           7202.5225\n",
            "11              Virginia           6940.1112\n",
            "12                  Ohio           5985.8870\n",
            "13         Massachusetts           5905.5446\n",
            "14              Kentucky           4513.3140\n",
            "15             Tennessee           3434.2765\n",
            "16              Delaware           3336.3827\n",
            "17               Alabama           2845.0624\n",
            "18               Indiana           2707.3495\n",
            "19             Louisiana           2659.2401\n",
            "20            New Jersey           2336.7532\n",
            "21          Rhode Island           2276.7013\n",
            "22                  Iowa           2258.5883\n",
            "23              Missouri           2212.8747\n",
            "24                  Utah           1818.1938\n",
            "25         New Hampshire           1519.1696\n",
            "26            New Mexico           1340.1399\n",
            "27              Nebraska           1166.0176\n",
            "28              Colorado            970.4647\n",
            "29              Oklahoma            829.0182\n",
            "30               Florida            750.7424\n",
            "31          South Dakota            682.5542\n",
            "32           Mississippi            550.6659\n",
            "33           Connecticut            533.4987\n",
            "34  District of Columbia            490.9567\n",
            "35              Maryland            436.6492\n",
            "36                Nevada            278.0678\n",
            "37                Oregon            234.0495\n",
            "38                Kansas            139.2008\n",
            "39              Arkansas            -62.9462\n",
            "40        North Carolina          -4236.6732\n"
          ]
        }
      ]
    },
    {
      "cell_type": "code",
      "source": [
        "#Consulta de ventas totales durante cada mes entre 2014 y 2017\n",
        "\n",
        "query11 = \"\"\"\n",
        "SELECT\n",
        "    EXTRACT(MONTH FROM Order_Date) AS Mes,\n",
        "    EXTRACT(YEAR FROM Order_Date) AS Año,\n",
        "    SUM(Sales) AS Total_Ventas\n",
        "FROM sales\n",
        "GROUP BY\n",
        "    EXTRACT(MONTH FROM Order_Date),\n",
        "    EXTRACT(YEAR FROM Order_Date)\n",
        "ORDER BY Año, Mes;\n",
        "\"\"\"\n",
        "result11 = duckdb.query(query11).df()\n",
        "print(result11)\n"
      ],
      "metadata": {
        "colab": {
          "base_uri": "https://localhost:8080/"
        },
        "id": "hA_7MHCMO2Bl",
        "outputId": "0bc4e55f-550c-4082-b0da-cddbca5e5880"
      },
      "execution_count": 22,
      "outputs": [
        {
          "output_type": "stream",
          "name": "stdout",
          "text": [
            "    Mes   Año  Total_Ventas\n",
            "0     1  2014    14236.8950\n",
            "1     2  2014     4519.8920\n",
            "2     3  2014    55691.0090\n",
            "3     4  2014    28295.3450\n",
            "4     5  2014    23648.2870\n",
            "5     6  2014    34595.1276\n",
            "6     7  2014    33946.3930\n",
            "7     8  2014    27909.4685\n",
            "8     9  2014    81777.3508\n",
            "9    10  2014    31453.3930\n",
            "10   11  2014    78628.7167\n",
            "11   12  2014    69545.6205\n",
            "12    1  2015    18174.0756\n",
            "13    2  2015    11951.4110\n",
            "14    3  2015    38726.2520\n",
            "15    4  2015    34195.2085\n",
            "16    5  2015    30131.6865\n",
            "17    6  2015    24797.2920\n",
            "18    7  2015    28765.3250\n",
            "19    8  2015    36898.3322\n",
            "20    9  2015    64595.9180\n",
            "21   10  2015    31404.9235\n",
            "22   11  2015    75972.5635\n",
            "23   12  2015    74919.5212\n",
            "24    1  2016    18542.4910\n",
            "25    2  2016    22978.8150\n",
            "26    3  2016    51715.8750\n",
            "27    4  2016    38750.0390\n",
            "28    5  2016    56987.7280\n",
            "29    6  2016    40344.5340\n",
            "30    7  2016    39261.9630\n",
            "31    8  2016    31115.3743\n",
            "32    9  2016    73410.0249\n",
            "33   10  2016    59687.7450\n",
            "34   11  2016    79411.9658\n",
            "35   12  2016    96999.0430\n",
            "36    1  2017    43971.3740\n",
            "37    2  2017    20301.1334\n",
            "38    3  2017    58872.3528\n",
            "39    4  2017    36521.5361\n",
            "40    5  2017    44261.1102\n",
            "41    6  2017    52981.7257\n",
            "42    7  2017    45264.4160\n",
            "43    8  2017    63120.8880\n",
            "44    9  2017    87866.6520\n",
            "45   10  2017    77776.9232\n",
            "46   11  2017   118447.8250\n",
            "47   12  2017    83829.3188\n"
          ]
        }
      ]
    },
    {
      "cell_type": "code",
      "source": [
        "#Consulta de venta promedio por dia de la semana\n",
        "\n",
        "query12 = \"\"\"\n",
        "SELECT\n",
        "    CASE DAYOFWEEK(Order_Date)\n",
        "        WHEN 0 THEN 'Domingo'\n",
        "        WHEN 1 THEN 'Lunes'\n",
        "        WHEN 2 THEN 'Martes'\n",
        "        WHEN 3 THEN 'Miércoles'\n",
        "        WHEN 4 THEN 'Jueves'\n",
        "        WHEN 5 THEN 'Viernes'\n",
        "        WHEN 6 THEN 'Sábado'\n",
        "    END AS dia_semana,\n",
        "    AVG(Sales) AS venta_promedio\n",
        "FROM sales\n",
        "GROUP BY DAYOFWEEK(Order_Date)\n",
        "ORDER BY DAYOFWEEK(Order_Date)\n",
        "\"\"\"\n",
        "result12 = duckdb.query(query12).df()\n",
        "print(result12)"
      ],
      "metadata": {
        "colab": {
          "base_uri": "https://localhost:8080/"
        },
        "id": "px9Rw4vFPLNM",
        "outputId": "39a784b1-3374-4628-c8ed-1d84e283118d"
      },
      "execution_count": 23,
      "outputs": [
        {
          "output_type": "stream",
          "name": "stdout",
          "text": [
            "  dia_semana  venta_promedio\n",
            "0    Domingo      225.353127\n",
            "1      Lunes      229.255914\n",
            "2     Martes      259.683094\n",
            "3  Miércoles      237.350337\n",
            "4     Jueves      220.072302\n",
            "5    Viernes      235.254268\n",
            "6     Sábado      216.304944\n"
          ]
        }
      ]
    },
    {
      "cell_type": "code",
      "source": [
        "#Consulta de retraso promedio en base a la región y la modalidad de envío\n",
        "\n",
        "query13 = \"\"\"\n",
        "SELECT\n",
        "    c.Region,\n",
        "    s.Ship_Mode,\n",
        "    AVG(DATEDIFF('day', s.Order_Date, s.Ship_Date)) AS Retraso_Promedio_Días\n",
        "FROM sales s\n",
        "JOIN customers c ON s.Customer_ID = c.Customer_ID\n",
        "GROUP BY\n",
        "    c.Region,\n",
        "    s.Ship_Mode\n",
        "ORDER BY\n",
        "    Retraso_Promedio_Días DESC;\n",
        "\n",
        "\"\"\"\n",
        "result13 = duckdb.query(query13).df()\n",
        "print(result13)"
      ],
      "metadata": {
        "colab": {
          "base_uri": "https://localhost:8080/"
        },
        "id": "j9Ydt1EuPRxJ",
        "outputId": "427d84f6-4bcd-4eaf-e475-8a41f46be187"
      },
      "execution_count": 24,
      "outputs": [
        {
          "output_type": "stream",
          "name": "stdout",
          "text": [
            "     Region       Ship_Mode  Retraso_Promedio_Días\n",
            "0      West  Standard Class               5.076642\n",
            "1   Central  Standard Class               5.011080\n",
            "2     South  Standard Class               4.953557\n",
            "3      East  Standard Class               4.951694\n",
            "4      East    Second Class               3.304505\n",
            "5     South    Second Class               3.247525\n",
            "6      West    Second Class               3.204437\n",
            "7   Central    Second Class               3.197368\n",
            "8     South     First Class               2.283898\n",
            "9      West     First Class               2.185115\n",
            "10     East     First Class               2.179825\n",
            "11  Central     First Class               2.108696\n",
            "12  Central        Same Day               0.067114\n",
            "13     West        Same Day               0.055556\n",
            "14     East        Same Day               0.025478\n",
            "15    South        Same Day               0.013333\n"
          ]
        }
      ]
    }
  ]
}